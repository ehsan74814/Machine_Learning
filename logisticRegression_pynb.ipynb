{
  "nbformat": 4,
  "nbformat_minor": 0,
  "metadata": {
    "colab": {
      "provenance": [],
      "authorship_tag": "ABX9TyPRqdR7XPfgb8Y9CMl5Ako9",
      "include_colab_link": true
    },
    "kernelspec": {
      "name": "python3",
      "display_name": "Python 3"
    },
    "language_info": {
      "name": "python"
    }
  },
  "cells": [
    {
      "cell_type": "markdown",
      "metadata": {
        "id": "view-in-github",
        "colab_type": "text"
      },
      "source": [
        "<a href=\"https://colab.research.google.com/github/ehsan74814/Preprocessing_Data/blob/main/logisticRegression_pynb.ipynb\" target=\"_parent\"><img src=\"https://colab.research.google.com/assets/colab-badge.svg\" alt=\"Open In Colab\"/></a>"
      ]
    },
    {
      "cell_type": "code",
      "source": [
        "import numpy as np\n",
        "import matplotlib.pyplot as plt\n",
        "import pandas as pd\n",
        "import seaborn as sns\n",
        "import warnings"
      ],
      "metadata": {
        "id": "moJ_YFZLpDM1"
      },
      "execution_count": 6,
      "outputs": []
    },
    {
      "cell_type": "code",
      "source": [
        "warnings.filterwarnings('ignore')"
      ],
      "metadata": {
        "id": "W7K0Gkfwp48z"
      },
      "execution_count": 20,
      "outputs": []
    },
    {
      "cell_type": "code",
      "source": [
        "df = pd.read_csv(\"/content/winequalityN.copy.csv\")"
      ],
      "metadata": {
        "id": "aVUB1VuVpnTQ"
      },
      "execution_count": 37,
      "outputs": []
    },
    {
      "cell_type": "code",
      "source": [
        "df = df.drop(columns='type', axis=1)"
      ],
      "metadata": {
        "id": "rp31EG1NvpJe"
      },
      "execution_count": null,
      "outputs": []
    },
    {
      "cell_type": "code",
      "source": [
        "correlation_matrix = df.corr()"
      ],
      "metadata": {
        "id": "7lFuwl_sxCb8"
      },
      "execution_count": 42,
      "outputs": []
    },
    {
      "cell_type": "code",
      "source": [
        "mask =np.triu(np.ones_like(correlation_matrix, dtype=bool))\n",
        "plt.figure(figsize=(15,8))\n",
        "sns.heatmap(correlation_matrix,mask= mask, annot=True, cmap=\"coolwarm\", fmt=\".2f\", cbar=True )\n",
        "plt.show()"
      ],
      "metadata": {
        "id": "zudax7PLxnIt"
      },
      "execution_count": null,
      "outputs": []
    },
    {
      "cell_type": "code",
      "source": [],
      "metadata": {
        "id": "y9cx8BduyF8K"
      },
      "execution_count": null,
      "outputs": []
    }
  ]
}