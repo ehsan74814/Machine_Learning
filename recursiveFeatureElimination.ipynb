{
  "nbformat": 4,
  "nbformat_minor": 0,
  "metadata": {
    "colab": {
      "provenance": [],
      "authorship_tag": "ABX9TyOka0mYTiDcE6uQmHhrr57P",
      "include_colab_link": true
    },
    "kernelspec": {
      "name": "python3",
      "display_name": "Python 3"
    },
    "language_info": {
      "name": "python"
    }
  },
  "cells": [
    {
      "cell_type": "markdown",
      "metadata": {
        "id": "view-in-github",
        "colab_type": "text"
      },
      "source": [
        "<a href=\"https://colab.research.google.com/github/ehsan74814/Machine_Learning/blob/main/recursiveFeatureElimination.ipynb\" target=\"_parent\"><img src=\"https://colab.research.google.com/assets/colab-badge.svg\" alt=\"Open In Colab\"/></a>"
      ]
    },
    {
      "cell_type": "code",
      "execution_count": 3,
      "metadata": {
        "id": "eWK1ZyB5Ab6a"
      },
      "outputs": [],
      "source": [
        "import numpy as np\n",
        "from sklearn.datasets import make_classification\n",
        "from sklearn.feature_selection import RFE\n",
        "from sklearn.linear_model import LogisticRegression"
      ]
    },
    {
      "cell_type": "code",
      "source": [
        "# example dataset (100 samples,10 features)\n",
        "X,y = make_classification(n_samples=100, n_features=10, n_informative=5, random_state=42)"
      ],
      "metadata": {
        "id": "D2zAaONSBMZm"
      },
      "execution_count": 4,
      "outputs": []
    },
    {
      "cell_type": "code",
      "source": [
        "# define the model (logistic regression in this case)\n",
        "model = LogisticRegression()"
      ],
      "metadata": {
        "id": "NCXRSkEJBzdQ"
      },
      "execution_count": 5,
      "outputs": []
    },
    {
      "cell_type": "code",
      "source": [
        "# number of features to select\n",
        "k = 5"
      ],
      "metadata": {
        "id": "1emTakbtB99Q"
      },
      "execution_count": 6,
      "outputs": []
    },
    {
      "cell_type": "code",
      "source": [
        "# apply recursive feature elimination (REF)\n",
        "rfe = RFE(estimator=model, n_features_to_select=k)\n",
        "X_reduced = rfe.fit_transform(X, y)"
      ],
      "metadata": {
        "id": "1o2laiQSCDyL"
      },
      "execution_count": 8,
      "outputs": []
    },
    {
      "cell_type": "code",
      "source": [
        "# print results\n",
        "print(f'original number of features: {X.shape[1]}\\n Reduced number of features : {X_reduced.shape[1]}\\nSelected features (True indicates selected : {rfe.support_}')"
      ],
      "metadata": {
        "id": "PS_8_yCqCb47"
      },
      "execution_count": null,
      "outputs": []
    }
  ]
}