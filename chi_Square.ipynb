{
  "nbformat": 4,
  "nbformat_minor": 0,
  "metadata": {
    "colab": {
      "provenance": [],
      "authorship_tag": "ABX9TyNmdKIM/GABju5B3/KwmCG8",
      "include_colab_link": true
    },
    "kernelspec": {
      "name": "python3",
      "display_name": "Python 3"
    },
    "language_info": {
      "name": "python"
    }
  },
  "cells": [
    {
      "cell_type": "markdown",
      "metadata": {
        "id": "view-in-github",
        "colab_type": "text"
      },
      "source": [
        "<a href=\"https://colab.research.google.com/github/ehsan74814/Machine_Learning/blob/main/chi_Square.ipynb\" target=\"_parent\"><img src=\"https://colab.research.google.com/assets/colab-badge.svg\" alt=\"Open In Colab\"/></a>"
      ]
    },
    {
      "cell_type": "code",
      "execution_count": 1,
      "metadata": {
        "id": "UJdlOZ44lwgM"
      },
      "outputs": [],
      "source": [
        "import numpy as np\n",
        "from scipy.stats import chi2_contingency"
      ]
    },
    {
      "cell_type": "code",
      "source": [
        "# create a contingency table (observed frequencies)\n",
        "data = np.array([[10,20,30], [6,9,17]])"
      ],
      "metadata": {
        "id": "dlQtKkYBmNCk"
      },
      "execution_count": 2,
      "outputs": []
    },
    {
      "cell_type": "code",
      "source": [
        "# perform chi-Square test\n",
        "chi2, p, dof, expected = chi2_contingency(data)"
      ],
      "metadata": {
        "id": "pbCbCxW0mqjb"
      },
      "execution_count": 3,
      "outputs": []
    },
    {
      "cell_type": "code",
      "source": [
        "# display results\n",
        "\n",
        "#Test statistic\n",
        "print(f\"Chi_square statistic : {chi2}\")\n",
        "\n",
        "#probability value\n",
        "print(f\"P_value : {p}\")\n",
        "\n",
        "# degree of freedom\n",
        "print(f\"Degree of freedom : {dof}\")\n",
        "\n",
        "#expected freqencies if varaiable are independed\n",
        "print(f\"Expected Frequencies : \\n{expected}\")"
      ],
      "metadata": {
        "id": "DGlRwv_gm5iC"
      },
      "execution_count": null,
      "outputs": []
    },
    {
      "cell_type": "code",
      "source": [
        "# conclusion\n",
        "if p < 0.05:\n",
        "  print(\"The varaiables are not independet (reject the null hypothesis)\")\n",
        "\n",
        "else:\n",
        "  print(\"the  varaible are independed (fail to reject the null hypothesis )\")"
      ],
      "metadata": {
        "id": "fb70ggZ1n8q5"
      },
      "execution_count": null,
      "outputs": []
    },
    {
      "cell_type": "code",
      "source": [],
      "metadata": {
        "id": "E4y6XQpAoXZ3"
      },
      "execution_count": null,
      "outputs": []
    }
  ]
}