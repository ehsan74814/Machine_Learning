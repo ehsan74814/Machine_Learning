{
  "nbformat": 4,
  "nbformat_minor": 0,
  "metadata": {
    "colab": {
      "provenance": [],
      "authorship_tag": "ABX9TyMJeYZu+vaMJJSrWl+GjMGz",
      "include_colab_link": true
    },
    "kernelspec": {
      "name": "python3",
      "display_name": "Python 3"
    },
    "language_info": {
      "name": "python"
    }
  },
  "cells": [
    {
      "cell_type": "markdown",
      "metadata": {
        "id": "view-in-github",
        "colab_type": "text"
      },
      "source": [
        "<a href=\"https://colab.research.google.com/github/ehsan74814/Machine_Learning/blob/main/Untitled35.ipynb\" target=\"_parent\"><img src=\"https://colab.research.google.com/assets/colab-badge.svg\" alt=\"Open In Colab\"/></a>"
      ]
    },
    {
      "cell_type": "code",
      "execution_count": 3,
      "metadata": {
        "id": "sGuN2E1YbwWm"
      },
      "outputs": [],
      "source": [
        "from sklearn.decomposition import PCA\n",
        "import numpy as np\n"
      ]
    },
    {
      "cell_type": "code",
      "source": [
        "# example data : 5 samples with 4 features\n",
        "data = np.array([\n",
        "    [2.5,2.4,0.1,0.3],\n",
        "    [0.5,0.7,1.2,1.5],\n",
        "    [2.2,2.9,0.3,0.8],\n",
        "    [1.9,2.2,1.1,0.7],\n",
        "    [3.1,3.0,0.5,1.2]\n",
        "])"
      ],
      "metadata": {
        "id": "V9cV5S5hb4Lt"
      },
      "execution_count": 4,
      "outputs": []
    },
    {
      "cell_type": "code",
      "source": [
        "#initialize PCA to reduce dimentions to 2\n",
        "pca = PCA(n_components=2)\n",
        "reduced_data = pca.fit_transform(data)"
      ],
      "metadata": {
        "id": "Ou4_tooYch4U"
      },
      "execution_count": 5,
      "outputs": []
    },
    {
      "cell_type": "code",
      "source": [
        "print(\"original data shape :\", data.shape)\n",
        "print('Reduced data shape :', reduced_data.shape)\n",
        "print(\"reduced data :\\n\", reduced_data)"
      ],
      "metadata": {
        "id": "8bVoKwJTc3ZK"
      },
      "execution_count": null,
      "outputs": []
    },
    {
      "cell_type": "code",
      "source": [],
      "metadata": {
        "id": "bN-Wegm1dLbD"
      },
      "execution_count": null,
      "outputs": []
    }
  ]
}