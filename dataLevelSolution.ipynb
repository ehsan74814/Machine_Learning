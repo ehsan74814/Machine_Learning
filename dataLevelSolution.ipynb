{
  "nbformat": 4,
  "nbformat_minor": 0,
  "metadata": {
    "colab": {
      "provenance": [],
      "authorship_tag": "ABX9TyNNCdfsFpyM0PE9YQVwb+Kw",
      "include_colab_link": true
    },
    "kernelspec": {
      "name": "python3",
      "display_name": "Python 3"
    },
    "language_info": {
      "name": "python"
    }
  },
  "cells": [
    {
      "cell_type": "markdown",
      "metadata": {
        "id": "view-in-github",
        "colab_type": "text"
      },
      "source": [
        "<a href=\"https://colab.research.google.com/github/ehsan74814/Machine_Learning/blob/main/dataLevelSolution.ipynb\" target=\"_parent\"><img src=\"https://colab.research.google.com/assets/colab-badge.svg\" alt=\"Open In Colab\"/></a>"
      ]
    },
    {
      "cell_type": "markdown",
      "source": [
        "# OverSampling"
      ],
      "metadata": {
        "id": "JVCcXJeMwbx5"
      }
    },
    {
      "cell_type": "markdown",
      "source": [
        "## SMoth(Synthetic Minority Oversampling Technique)"
      ],
      "metadata": {
        "id": "69qBicomeX8K"
      }
    },
    {
      "cell_type": "markdown",
      "source": [
        "###  داده های مصنوعی برای تعداد کتر ایجاد میشود تا بالانس شود."
      ],
      "metadata": {
        "id": "VVgtbtnLwbJ5"
      }
    },
    {
      "cell_type": "code",
      "source": [
        "!pip install imbalanced-learn"
      ],
      "metadata": {
        "id": "EOy5R3mdxNaM"
      },
      "execution_count": null,
      "outputs": []
    },
    {
      "cell_type": "code",
      "source": [
        "from imblearn.over_sampling import SMOTE\n",
        "from sklearn.model_selection import train_test_split\n",
        "from sklearn.datasets import make_classification\n",
        "import pandas as pd\n",
        "import numpy as np\n"
      ],
      "metadata": {
        "id": "g-qTKYjHw8P_"
      },
      "execution_count": 3,
      "outputs": []
    },
    {
      "cell_type": "code",
      "source": [
        "#Create an imbalanced dataset\n",
        "X, y = make_classification(n_classes=2, class_sep=2, weights=[0.9,0.1], n_informative=3,\n",
        "                           n_redundant=1, flip_y=0, n_features=5,\n",
        "                           n_clusters_per_class=1, n_samples=1000, random_state=42)"
      ],
      "metadata": {
        "id": "Z8MqI-nWxIO4"
      },
      "execution_count": null,
      "outputs": []
    },
    {
      "cell_type": "code",
      "source": [
        "# Check class distribution before appling SMOTH\n",
        "print(f\"Class distribution before SMOTH : {pd.Series(y).value_counts()}\")"
      ],
      "metadata": {
        "id": "x_wiQjbhype0"
      },
      "execution_count": null,
      "outputs": []
    },
    {
      "cell_type": "code",
      "source": [
        "# Split the dataset into training and testing sets\n",
        "X_train, X_test, y_train, y_test = train_test_split(X, y, test_size=0.3, random_state=42)"
      ],
      "metadata": {
        "id": "SDa1c9YTzIW3"
      },
      "execution_count": 8,
      "outputs": []
    },
    {
      "cell_type": "code",
      "source": [
        "# Apply SMOTH to balance the training data\n",
        "smote = SMOTE(random_state=42)\n",
        "X_train_balanced, y_train_balalnced = smote.fit_resample(X_train, y_train)"
      ],
      "metadata": {
        "id": "LJXT7cq6zdoD"
      },
      "execution_count": null,
      "outputs": []
    },
    {
      "cell_type": "code",
      "source": [
        "# check class distribution after applying smote\n",
        "print(f\"Check calss distribution after appling : {pd.Series(y_train_balalnce).value_counts()}\")"
      ],
      "metadata": {
        "id": "tqljaNkh0AE9"
      },
      "execution_count": null,
      "outputs": []
    },
    {
      "cell_type": "code",
      "source": [
        "# Display a few examles of the new balanced data\n",
        "print(f\"Sample of the balanced data :{pd.DataFrame(X_train_balanced).head()}\")"
      ],
      "metadata": {
        "id": "9cXwUZ3U0fYO"
      },
      "execution_count": null,
      "outputs": []
    },
    {
      "cell_type": "code",
      "source": [],
      "metadata": {
        "id": "roDMu16508bd"
      },
      "execution_count": null,
      "outputs": []
    }
  ]
}