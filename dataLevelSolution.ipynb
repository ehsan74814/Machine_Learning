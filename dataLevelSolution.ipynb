{
  "nbformat": 4,
  "nbformat_minor": 0,
  "metadata": {
    "colab": {
      "provenance": [],
      "authorship_tag": "ABX9TyPcvIjYrJ4njTy6fRrkvHtO",
      "include_colab_link": true
    },
    "kernelspec": {
      "name": "python3",
      "display_name": "Python 3"
    },
    "language_info": {
      "name": "python"
    }
  },
  "cells": [
    {
      "cell_type": "markdown",
      "metadata": {
        "id": "view-in-github",
        "colab_type": "text"
      },
      "source": [
        "<a href=\"https://colab.research.google.com/github/ehsan74814/Machine_Learning/blob/main/dataLevelSolution.ipynb\" target=\"_parent\"><img src=\"https://colab.research.google.com/assets/colab-badge.svg\" alt=\"Open In Colab\"/></a>"
      ]
    },
    {
      "cell_type": "markdown",
      "source": [
        "# OverSampling"
      ],
      "metadata": {
        "id": "JVCcXJeMwbx5"
      }
    },
    {
      "cell_type": "markdown",
      "source": [
        "## SMoth(Synthetic Minority Oversampling Technique)"
      ],
      "metadata": {
        "id": "69qBicomeX8K"
      }
    },
    {
      "cell_type": "markdown",
      "source": [
        "###  داده های مصنوعی برای تعداد کتر ایجاد میشود تا بالانس شود."
      ],
      "metadata": {
        "id": "VVgtbtnLwbJ5"
      }
    },
    {
      "cell_type": "code",
      "source": [
        "!pip install imbalanced-learn"
      ],
      "metadata": {
        "id": "EOy5R3mdxNaM"
      },
      "execution_count": null,
      "outputs": []
    },
    {
      "cell_type": "code",
      "source": [
        "from imblearn.over_sampling import SMOTE\n",
        "from sklearn.model_selection import train_test_split\n",
        "from sklearn.datasets import make_classification\n",
        "import pandas as pd\n",
        "import numpy as np\n",
        "import warnings"
      ],
      "metadata": {
        "id": "g-qTKYjHw8P_"
      },
      "execution_count": 1,
      "outputs": []
    },
    {
      "cell_type": "code",
      "source": [
        "warnings.filterwarnings('ignore')"
      ],
      "metadata": {
        "id": "U3qyrsjdUmD0"
      },
      "execution_count": null,
      "outputs": []
    },
    {
      "cell_type": "code",
      "source": [
        "#Create an imbalanced dataset\n",
        "X, y = make_classification(n_classes=2, class_sep=2, weights=[0.9,0.1], n_informative=3,\n",
        "                           n_redundant=1, flip_y=0, n_features=5,\n",
        "                           n_clusters_per_class=1, n_samples=1000, random_state=42)"
      ],
      "metadata": {
        "id": "Z8MqI-nWxIO4"
      },
      "execution_count": null,
      "outputs": []
    },
    {
      "cell_type": "code",
      "source": [
        "# Check class distribution before appling SMOTH\n",
        "print(f\"Class distribution before SMOTH : {pd.Series(y).value_counts()}\")"
      ],
      "metadata": {
        "id": "x_wiQjbhype0"
      },
      "execution_count": null,
      "outputs": []
    },
    {
      "cell_type": "code",
      "source": [
        "# Split the dataset into training and testing sets\n",
        "X_train, X_test, y_train, y_test = train_test_split(X, y, test_size=0.3, random_state=42)"
      ],
      "metadata": {
        "id": "SDa1c9YTzIW3"
      },
      "execution_count": null,
      "outputs": []
    },
    {
      "cell_type": "code",
      "source": [
        "# Apply SMOTH to balance the training data\n",
        "smote = SMOTE(random_state=42)\n",
        "X_train_balanced, y_train_balalnced = smote.fit_resample(X_train, y_train)"
      ],
      "metadata": {
        "id": "LJXT7cq6zdoD"
      },
      "execution_count": null,
      "outputs": []
    },
    {
      "cell_type": "code",
      "source": [
        "# check class distribution after applying smote\n",
        "print(f\"Check calss distribution after appling : {pd.Series(y_train_balalnced).value_counts()}\")"
      ],
      "metadata": {
        "id": "tqljaNkh0AE9"
      },
      "execution_count": null,
      "outputs": []
    },
    {
      "cell_type": "code",
      "source": [
        "# Display a few examles of the new balanced data\n",
        "print(f\"Sample of the balanced data :{pd.DataFrame(X_train_balanced).head()}\")"
      ],
      "metadata": {
        "id": "9cXwUZ3U0fYO"
      },
      "execution_count": null,
      "outputs": []
    },
    {
      "cell_type": "markdown",
      "source": [
        "##  ADASYN\n",
        "تولید نمونه های مصنوعی برای تعداد کمتر در جایی که عدم تعادل است."
      ],
      "metadata": {
        "id": "xbKH28ytYSmD"
      }
    },
    {
      "cell_type": "code",
      "source": [
        "from imblearn.over_sampling import ADASYN"
      ],
      "metadata": {
        "id": "hwxvje1SYoyM"
      },
      "execution_count": null,
      "outputs": []
    },
    {
      "cell_type": "code",
      "source": [
        "# create an imbalanced synthetic dataset\n",
        "X,y = make_classification(n_classes=2, class_sep=2, weights=[0.9,0.1], n_features=20, n_samples=1000, random_state=42)"
      ],
      "metadata": {
        "id": "1QsJ9y6vYy8C"
      },
      "execution_count": null,
      "outputs": []
    },
    {
      "cell_type": "code",
      "source": [
        "# aplit the dataset into training and testing sets\n",
        "X_train, X_test, y_train, y_test = train_test_split(X, y, test_size=0.3, random_state=42)\n"
      ],
      "metadata": {
        "id": "L_MGhEomZSa6"
      },
      "execution_count": null,
      "outputs": []
    },
    {
      "cell_type": "code",
      "source": [
        "# Apply ADASYM for balancing the training data\n",
        "adaysn = ADASYN(random_state=42)\n",
        "X_train_balanced, y_train_balalnced = adaysn.fit_resample(X_train, y_train)"
      ],
      "metadata": {
        "id": "MnFsNwlAZoye"
      },
      "execution_count": null,
      "outputs": []
    },
    {
      "cell_type": "code",
      "source": [
        "# Check the class distribution before and after balancing\n",
        "print(f\"class distributing before balancing : {(pd.Series(y_train).value_counts())}\")\n",
        "\n",
        "\n",
        "print(f\"class distributing after balancing : {(pd.Series(y_train_balalnced).value_counts())}\")"
      ],
      "metadata": {
        "id": "b7WSuqZBaJNd"
      },
      "execution_count": null,
      "outputs": []
    },
    {
      "cell_type": "markdown",
      "source": [
        "# UnderSampling"
      ],
      "metadata": {
        "id": "roDMu16508bd"
      }
    },
    {
      "cell_type": "markdown",
      "source": [
        "## Tomek"
      ],
      "metadata": {
        "id": "gSTu99gvWKse"
      }
    },
    {
      "cell_type": "code",
      "source": [
        "# import necessary libraries\n",
        "from sklearn.datasets import make_classification\n",
        "from imblearn.under_sampling import TomekLinks\n",
        "from collections import Counter\n",
        "import warnings"
      ],
      "metadata": {
        "id": "lOC8GOFffYeG"
      },
      "execution_count": 15,
      "outputs": []
    },
    {
      "cell_type": "code",
      "source": [
        "warnings.filterwarnings('ignore')"
      ],
      "metadata": {
        "id": "T9fRgEkfhs2r"
      },
      "execution_count": 16,
      "outputs": []
    },
    {
      "cell_type": "code",
      "source": [
        "# create an imbalanced dataset\n",
        "X,y = make_classification(n_classes=2, class_sep=1, weights=[0.9,0.1],\n",
        "                          n_informative=3, n_redundant=1, flip_y=0,\n",
        "                          n_features=5,n_clusters_per_class=1, n_samples=1000, random_state=42)\n",
        "\n"
      ],
      "metadata": {
        "id": "qSeN07T7fdlx"
      },
      "execution_count": 26,
      "outputs": []
    },
    {
      "cell_type": "code",
      "source": [
        "print('Original dataset class distribution :', Counter(y))"
      ],
      "metadata": {
        "id": "WOTnwsgjg95L",
        "outputId": "b6d19c2b-e939-4a93-8b20-d688a36a2f7c",
        "colab": {
          "base_uri": "https://localhost:8080/"
        }
      },
      "execution_count": 27,
      "outputs": [
        {
          "output_type": "stream",
          "name": "stdout",
          "text": [
            "Original dataset class distribution : Counter({0: 900, 1: 100})\n"
          ]
        }
      ]
    },
    {
      "cell_type": "code",
      "source": [
        "# apply tomek links\n",
        "tomek = TomekLinks()\n",
        "X_resampled, y_resampled = tomek.fit_resample(X, y)"
      ],
      "metadata": {
        "id": "MPwlUzhRhHHv"
      },
      "execution_count": 28,
      "outputs": []
    },
    {
      "cell_type": "code",
      "source": [
        "print(\"Reampled dataset class distribution:\", Counter(y_resampled))"
      ],
      "metadata": {
        "id": "GPWzihK2hWXz",
        "outputId": "0f4ce9f6-f920-4ff2-ad6a-d5b66e742420",
        "colab": {
          "base_uri": "https://localhost:8080/"
        }
      },
      "execution_count": 29,
      "outputs": [
        {
          "output_type": "stream",
          "name": "stdout",
          "text": [
            "Reampled dataset class distribution: Counter({0: 894, 1: 100})\n"
          ]
        }
      ]
    }
  ]
}