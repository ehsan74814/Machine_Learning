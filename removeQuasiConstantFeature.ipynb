{
  "nbformat": 4,
  "nbformat_minor": 0,
  "metadata": {
    "colab": {
      "provenance": [],
      "authorship_tag": "ABX9TyM4V+gSJnacF1sn5xtRyaQY",
      "include_colab_link": true
    },
    "kernelspec": {
      "name": "python3",
      "display_name": "Python 3"
    },
    "language_info": {
      "name": "python"
    }
  },
  "cells": [
    {
      "cell_type": "markdown",
      "metadata": {
        "id": "view-in-github",
        "colab_type": "text"
      },
      "source": [
        "<a href=\"https://colab.research.google.com/github/ehsan74814/Machine_Learning/blob/main/removeQuasiConstantFeature.ipynb\" target=\"_parent\"><img src=\"https://colab.research.google.com/assets/colab-badge.svg\" alt=\"Open In Colab\"/></a>"
      ]
    },
    {
      "cell_type": "code",
      "execution_count": 1,
      "metadata": {
        "id": "hTtFW-5b9CuV"
      },
      "outputs": [],
      "source": [
        "import numpy as np\n",
        "import pandas as pd"
      ]
    },
    {
      "cell_type": "code",
      "source": [
        "# example datset\n",
        "data = pd.DataFrame({'feature_1' : [1,1,1,1,1], # constant feature\n",
        "                     'feauture_2': [2,2,2,2,3], # quasi_constant feature\n",
        "                     'feauture_3': [0,1,0,1,0], # non-constant feature\n",
        "                     'feauture_4': [5,5,5,5,5] # constant feature\n",
        "                     })"
      ],
      "metadata": {
        "id": "MDAooTiY9Pyg"
      },
      "execution_count": 2,
      "outputs": []
    },
    {
      "cell_type": "code",
      "source": [
        "# define thresold for quasi-constant (e.g., 99%of the same value)\n",
        "threshold = 0.99"
      ],
      "metadata": {
        "id": "m1IqDtes-N9b"
      },
      "execution_count": 3,
      "outputs": []
    },
    {
      "cell_type": "code",
      "source": [
        "# identify quasi-constant features\n",
        "quasi_constant_features = []\n",
        "for column in data.columns:\n",
        "  # compute the ratio of the mostfrequent value\n",
        "  dominant_ratio = data[column].value_counts(normalize=True).max()\n",
        "  if dominant_ratio >= threshold:\n",
        "    quasi_constant_features.append(column)"
      ],
      "metadata": {
        "id": "VRlwaxkw-dYl"
      },
      "execution_count": 4,
      "outputs": []
    },
    {
      "cell_type": "code",
      "source": [
        "# remove quasi-constant features\n",
        "reduced_data = data.drop(columns=quasi_constant_features)"
      ],
      "metadata": {
        "id": "Gwok4r11_av_"
      },
      "execution_count": 5,
      "outputs": []
    },
    {
      "cell_type": "code",
      "source": [
        "# print result\n",
        "\n",
        "print(f'original data: {data}')\n",
        "print(f'quasi-constant featurres removed : {reduced_data}')"
      ],
      "metadata": {
        "id": "sGVGVfYi_qeU"
      },
      "execution_count": null,
      "outputs": []
    },
    {
      "cell_type": "code",
      "source": [],
      "metadata": {
        "id": "3pYh8REHAI46"
      },
      "execution_count": null,
      "outputs": []
    }
  ]
}