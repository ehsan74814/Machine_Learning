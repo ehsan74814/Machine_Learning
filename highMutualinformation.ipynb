{
  "nbformat": 4,
  "nbformat_minor": 0,
  "metadata": {
    "colab": {
      "provenance": [],
      "authorship_tag": "ABX9TyNIwNZE/p6TupjfpZXfVszf",
      "include_colab_link": true
    },
    "kernelspec": {
      "name": "python3",
      "display_name": "Python 3"
    },
    "language_info": {
      "name": "python"
    }
  },
  "cells": [
    {
      "cell_type": "markdown",
      "metadata": {
        "id": "view-in-github",
        "colab_type": "text"
      },
      "source": [
        "<a href=\"https://colab.research.google.com/github/ehsan74814/Machine_Learning/blob/main/highMutualinformation.ipynb\" target=\"_parent\"><img src=\"https://colab.research.google.com/assets/colab-badge.svg\" alt=\"Open In Colab\"/></a>"
      ]
    },
    {
      "cell_type": "code",
      "execution_count": 2,
      "metadata": {
        "id": "PtEVWAmwApiM"
      },
      "outputs": [],
      "source": [
        "from sklearn.feature_selection import mutual_info_classif\n",
        "from sklearn.feature_selection import SelectKBest\n",
        "import pandas as pd"
      ]
    },
    {
      "cell_type": "code",
      "source": [
        "# example dataset\n",
        "data = pd.DataFrame({\n",
        "    'feature_1':[2,4,6,8,10],# feature 1\n",
        "    'feature_2':[1,1,0,0,1],# feature 2\n",
        "    'feature_3':[7,5,8,6,9],# feature 3\n",
        "    'feature_4':[0,0,1,1,1]# feature 4\n",
        "})"
      ],
      "metadata": {
        "id": "GkTfi8w5A-r0"
      },
      "execution_count": 3,
      "outputs": []
    },
    {
      "cell_type": "code",
      "source": [
        "target = [0,1,0,1,1]"
      ],
      "metadata": {
        "id": "cZ5oxNOnD0v2"
      },
      "execution_count": 4,
      "outputs": []
    },
    {
      "cell_type": "code",
      "source": [
        "# create mutual information\n",
        "mi = mutual_info_classif(data, target)"
      ],
      "metadata": {
        "id": "9EaoLrxoD6fl"
      },
      "execution_count": 6,
      "outputs": []
    },
    {
      "cell_type": "code",
      "source": [
        "# create a dataframe to display mutual infoemation\n",
        "mi_df = pd.DataFrame({'Feature': data.columns, 'Mutual Information': mi})\n",
        "print(mi_df)"
      ],
      "metadata": {
        "id": "ipvzMwE7ECJe"
      },
      "execution_count": null,
      "outputs": []
    },
    {
      "cell_type": "code",
      "source": [
        "# select top k features based on mutual information\n",
        "\n",
        "k = 2 # number of top feature to select\n",
        "selector = SelectKBest(mutual_info_classif, k=k)\n",
        "selected_features = selector.fit_transform(data, target)"
      ],
      "metadata": {
        "id": "j2pfg3ErEiar"
      },
      "execution_count": 8,
      "outputs": []
    },
    {
      "cell_type": "code",
      "source": [
        "# display selected features\n",
        "selected_feature_names = data.columns[selector.get_support()]"
      ],
      "metadata": {
        "id": "qD1sTJMqFCZ4"
      },
      "execution_count": 9,
      "outputs": []
    },
    {
      "cell_type": "code",
      "source": [
        "print(f'selected features based on high mutual information  : {selected_feature_names.tolist()}')"
      ],
      "metadata": {
        "id": "tpv3RgCNFMjW"
      },
      "execution_count": null,
      "outputs": []
    }
  ]
}