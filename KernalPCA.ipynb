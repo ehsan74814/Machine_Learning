{
  "nbformat": 4,
  "nbformat_minor": 0,
  "metadata": {
    "colab": {
      "provenance": [],
      "authorship_tag": "ABX9TyNkEkOiSCA3OP9WrVnwCB+m",
      "include_colab_link": true
    },
    "kernelspec": {
      "name": "python3",
      "display_name": "Python 3"
    },
    "language_info": {
      "name": "python"
    }
  },
  "cells": [
    {
      "cell_type": "markdown",
      "metadata": {
        "id": "view-in-github",
        "colab_type": "text"
      },
      "source": [
        "<a href=\"https://colab.research.google.com/github/ehsan74814/Machine_Learning/blob/main/KernalPCA.ipynb\" target=\"_parent\"><img src=\"https://colab.research.google.com/assets/colab-badge.svg\" alt=\"Open In Colab\"/></a>"
      ]
    },
    {
      "cell_type": "code",
      "execution_count": 3,
      "metadata": {
        "id": "ksAQD3tLd8Q9"
      },
      "outputs": [],
      "source": [
        "from sklearn.decomposition import KernelPCA\n",
        "import numpy as np\n",
        "import matplotlib.pyplot as plt\n"
      ]
    },
    {
      "cell_type": "code",
      "source": [
        "# example data (nonlinear)\n",
        "X = np.random.rand(100,2)\n",
        "y = np.sin(10 * X[:, 0] + np.cos(10 * X[:,1]))"
      ],
      "metadata": {
        "id": "dYNWE5_JeKFp"
      },
      "execution_count": 5,
      "outputs": []
    },
    {
      "cell_type": "code",
      "source": [
        "# apply kernel pca with rbf kernel\n",
        "kpca = KernelPCA(n_components=2, kernel=\"rbf\", gamma = 15)\n",
        "X_kpca = kpca.fit_transform(X)"
      ],
      "metadata": {
        "id": "8UFy0YEufENl"
      },
      "execution_count": 6,
      "outputs": []
    },
    {
      "cell_type": "code",
      "source": [
        "# Visualize the transformed data\n",
        "plt.scatter(X_kpca[:, 0], X_kpca[:, 1], c=y, cmap='viridis')\n",
        "plt.title(\"kernel pca with rbf kernel\")\n",
        "plt.xlabel(\"privcipal component 1 \")\n",
        "plt.ylabel(\"privcipal component 2\")\n",
        "plt.colorbar(label=\"output value\")\n",
        "plt.show()\n"
      ],
      "metadata": {
        "id": "gRAxWu4BfeZo"
      },
      "execution_count": null,
      "outputs": []
    },
    {
      "cell_type": "code",
      "source": [],
      "metadata": {
        "id": "RypgvuOfgOHQ"
      },
      "execution_count": null,
      "outputs": []
    }
  ]
}