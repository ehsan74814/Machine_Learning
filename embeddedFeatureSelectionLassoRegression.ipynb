{
  "nbformat": 4,
  "nbformat_minor": 0,
  "metadata": {
    "colab": {
      "provenance": [],
      "authorship_tag": "ABX9TyPp83Wtxkc/cFwTIyytcteo",
      "include_colab_link": true
    },
    "kernelspec": {
      "name": "python3",
      "display_name": "Python 3"
    },
    "language_info": {
      "name": "python"
    }
  },
  "cells": [
    {
      "cell_type": "markdown",
      "metadata": {
        "id": "view-in-github",
        "colab_type": "text"
      },
      "source": [
        "<a href=\"https://colab.research.google.com/github/ehsan74814/Machine_Learning/blob/main/embeddedFeatureSelectionLassoRegression.ipynb\" target=\"_parent\"><img src=\"https://colab.research.google.com/assets/colab-badge.svg\" alt=\"Open In Colab\"/></a>"
      ]
    },
    {
      "cell_type": "code",
      "execution_count": 3,
      "metadata": {
        "id": "VnxTybBtDq_7"
      },
      "outputs": [],
      "source": [
        "import numpy as np\n",
        "from sklearn.datasets import make_regression\n",
        "from sklearn.linear_model import Lasso\n",
        "from sklearn.feature_selection import SelectFromModel"
      ]
    },
    {
      "cell_type": "code",
      "source": [
        "# example dataset (100 samples, 10 features)\n",
        "X,y = make_regression(n_samples=100, n_features=10, noise=0.1, random_state=42)"
      ],
      "metadata": {
        "id": "ITRmiaEPD6M1"
      },
      "execution_count": 4,
      "outputs": []
    },
    {
      "cell_type": "code",
      "source": [
        "# define the lasso regression model\n",
        "model = Lasso(alpha=0.1)"
      ],
      "metadata": {
        "id": "u4WWuXjwEmBr"
      },
      "execution_count": 5,
      "outputs": []
    },
    {
      "cell_type": "code",
      "source": [
        "#fit the model\n",
        "model.fit(X,y)"
      ],
      "metadata": {
        "id": "ZCnUZAy5Ewqa"
      },
      "execution_count": null,
      "outputs": []
    },
    {
      "cell_type": "code",
      "source": [
        "# use selectfromModel to automatically select important features\n",
        "selector = SelectFromModel(estimator=model, prefit=True)\n",
        "X_reduced= selector.transform(X)"
      ],
      "metadata": {
        "id": "8J_fbYldE1FF"
      },
      "execution_count": 7,
      "outputs": []
    },
    {
      "cell_type": "code",
      "source": [
        "# print results\n",
        "print(f'original number of features : {X.shape[1]}\\nReduced number of features : {X_reduced.shape[1]}\\nSelected features (True indicates selected :) {selector.get_support()}')"
      ],
      "metadata": {
        "colab": {
          "base_uri": "https://localhost:8080/"
        },
        "id": "555J-ATkFQ5B",
        "outputId": "d6b66d0b-b238-4a44-b228-47a8fd4b1844"
      },
      "execution_count": 8,
      "outputs": [
        {
          "output_type": "stream",
          "name": "stdout",
          "text": [
            "original number of features : 10\n",
            "Reduced number of features : 10\n",
            "Selected features (True indicates selected :) [ True  True  True  True  True  True  True  True  True  True]\n"
          ]
        }
      ]
    },
    {
      "cell_type": "code",
      "source": [],
      "metadata": {
        "id": "i-V24Dt3F2IJ"
      },
      "execution_count": null,
      "outputs": []
    }
  ]
}