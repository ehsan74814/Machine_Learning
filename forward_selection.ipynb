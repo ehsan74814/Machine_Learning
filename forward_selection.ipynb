{
  "nbformat": 4,
  "nbformat_minor": 0,
  "metadata": {
    "colab": {
      "provenance": [],
      "authorship_tag": "ABX9TyNpG4wq8+csenaqyZsSB1l4",
      "include_colab_link": true
    },
    "kernelspec": {
      "name": "python3",
      "display_name": "Python 3"
    },
    "language_info": {
      "name": "python"
    }
  },
  "cells": [
    {
      "cell_type": "markdown",
      "metadata": {
        "id": "view-in-github",
        "colab_type": "text"
      },
      "source": [
        "<a href=\"https://colab.research.google.com/github/ehsan74814/Machine_Learning/blob/main/forward_selection.ipynb\" target=\"_parent\"><img src=\"https://colab.research.google.com/assets/colab-badge.svg\" alt=\"Open In Colab\"/></a>"
      ]
    },
    {
      "cell_type": "code",
      "execution_count": 2,
      "metadata": {
        "id": "0qgwa5lnDXSp"
      },
      "outputs": [],
      "source": [
        "import numpy as np\n",
        "from sklearn.feature_selection import SelectKBest, f_classif"
      ]
    },
    {
      "cell_type": "code",
      "source": [
        "# example dataset (100 samples, 5 features)\n",
        "X = np.random.randn(100, 5) # 100 samples and 5 features\n",
        "y = np.random.randint(0,2,100) # labels (e.g, 0 or 1)"
      ],
      "metadata": {
        "id": "PjMJECVIDk8m"
      },
      "execution_count": 3,
      "outputs": []
    },
    {
      "cell_type": "code",
      "source": [
        "# number of features to select\n",
        "k = 3"
      ],
      "metadata": {
        "id": "PzM_9fucIcsH"
      },
      "execution_count": 4,
      "outputs": []
    },
    {
      "cell_type": "code",
      "source": [
        "# forward selection function\n",
        "def forward_selection_simple(X, y, k):\n",
        "  selected_features = [] # list to store selected features\n",
        "  remaining_features = list(range(X.shape[1])) # all features initially\n",
        "\n",
        "  while len(selected_features) < k :\n",
        "    best_score = 0\n",
        "    best_feature = None\n",
        "\n",
        "    # iterate over remaining features\n",
        "    for feature_index in remaining_features:\n",
        "      temp_features = selected_features + [feature_index]\n",
        "      selector  = SelectKBest(score_func=f_classif, k = len(temp_features))\n",
        "      X_temp = selector.fit_transform(X[:, temp_features], y)\n",
        "      score = np.mean(selector.scores_)\n",
        "\n",
        "      # select feature with the highest score\n",
        "      if score > best_score:\n",
        "        best_score = score\n",
        "        best_feature = feature_index\n",
        "\n",
        "    selected_features.append(best_feature) #add the best feature\n",
        "    remaining_features.remove(best_feature) # remove it for remining features\n",
        "  return selected_features\n",
        ""
      ],
      "metadata": {
        "id": "b3pylsVOIhhB"
      },
      "execution_count": 8,
      "outputs": []
    },
    {
      "cell_type": "code",
      "source": [
        "# run forward selection\n",
        "selected_features = forward_selection_simple(X, y, k)"
      ],
      "metadata": {
        "id": "WiUA6uOwKV_N"
      },
      "execution_count": 9,
      "outputs": []
    },
    {
      "cell_type": "code",
      "source": [
        "print(f\"selected features : {selected_features}\")"
      ],
      "metadata": {
        "id": "FEeWPw5CLpDC"
      },
      "execution_count": null,
      "outputs": []
    }
  ]
}