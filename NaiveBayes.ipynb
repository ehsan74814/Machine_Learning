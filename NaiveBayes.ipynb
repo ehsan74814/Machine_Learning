{
  "nbformat": 4,
  "nbformat_minor": 0,
  "metadata": {
    "colab": {
      "provenance": [],
      "authorship_tag": "ABX9TyOQXLVjPz5eWu7UcOVTjK6B",
      "include_colab_link": true
    },
    "kernelspec": {
      "name": "python3",
      "display_name": "Python 3"
    },
    "language_info": {
      "name": "python"
    }
  },
  "cells": [
    {
      "cell_type": "markdown",
      "metadata": {
        "id": "view-in-github",
        "colab_type": "text"
      },
      "source": [
        "<a href=\"https://colab.research.google.com/github/ehsan74814/Preprocessing_Data/blob/main/NaiveBayes.ipynb\" target=\"_parent\"><img src=\"https://colab.research.google.com/assets/colab-badge.svg\" alt=\"Open In Colab\"/></a>"
      ]
    },
    {
      "cell_type": "code",
      "execution_count": 26,
      "metadata": {
        "id": "IZmyXd7IcF-2"
      },
      "outputs": [],
      "source": [
        "from sklearn.naive_bayes import GaussianNB, MultinomialNB, BernoulliNB\n",
        "import pandas as pd\n",
        "import matplotlib.pyplot as plt\n",
        "import seaborn as sns\n",
        "from sklearn.metrics import accuracy_score"
      ]
    },
    {
      "cell_type": "code",
      "source": [
        "from google.colab import drive\n",
        "drive.mount('/content/drive')"
      ],
      "metadata": {
        "id": "1eZ-3j3GHSJC"
      },
      "execution_count": null,
      "outputs": []
    },
    {
      "cell_type": "code",
      "source": [
        "df = pd.read_csv(\"/content/drive/MyDrive/Training ML/naiveBayes/agaricus-lepiota.data\")"
      ],
      "metadata": {
        "id": "FexPEMV3qN9B"
      },
      "execution_count": 4,
      "outputs": []
    },
    {
      "cell_type": "code",
      "source": [
        "df.columns"
      ],
      "metadata": {
        "id": "ebtseONt7zvq"
      },
      "execution_count": null,
      "outputs": []
    },
    {
      "cell_type": "code",
      "source": [
        "columns_names = ['class', 'cap-shape', 'cap-surface', 'cap-color', 'bruises', 'odor', 'gill-attachment', 'gill spacing', 'gill-size', 'gill-color', 'stalk-shape',\n",
        "                 'stalk-root', 'stalk-surface e-above-ring', 'stalk-surface e-below-ring', 'stalk-color-a bove-ring', 'stalk-color- below-ring',\n",
        "                 'veil-type', 'veil-color', 'ring-number', 'ring-type', 'spore-print-color', 'population', 'habitat']"
      ],
      "metadata": {
        "id": "jRvUV1Rd71P3"
      },
      "execution_count": 6,
      "outputs": []
    },
    {
      "cell_type": "code",
      "source": [
        "df.columns = columns_names"
      ],
      "metadata": {
        "id": "U4-0l4de-ztu"
      },
      "execution_count": 7,
      "outputs": []
    },
    {
      "cell_type": "code",
      "source": [
        "df.dtypes"
      ],
      "metadata": {
        "id": "w3TsLR7uvY_x"
      },
      "execution_count": null,
      "outputs": []
    },
    {
      "cell_type": "markdown",
      "source": [
        "# preprocessing data"
      ],
      "metadata": {
        "id": "Vv2is_sF-4wl"
      }
    },
    {
      "cell_type": "markdown",
      "source": [
        "##A) Removing low value columns"
      ],
      "metadata": {
        "id": "dssCQ-6SUqXs"
      }
    },
    {
      "cell_type": "markdown",
      "source": [
        "### 1) removing columns with zero variance"
      ],
      "metadata": {
        "id": "_WsLE3pKVMVw"
      }
    },
    {
      "cell_type": "code",
      "source": [
        "# columns where all values are the same.\n",
        "\n",
        "columns_to_drop = df.columns[df.nunique()<=1]\n",
        "df = df.drop(columns=columns_to_drop)\n",
        "\n",
        "\n",
        "print(f\"Removing columns : {columns_to_drop}\")"
      ],
      "metadata": {
        "id": "gg7xGo5XVxGq",
        "outputId": "c720c1e8-566f-4927-dd80-be77f0ec12f8",
        "colab": {
          "base_uri": "https://localhost:8080/"
        }
      },
      "execution_count": 9,
      "outputs": [
        {
          "output_type": "stream",
          "name": "stdout",
          "text": [
            "Removing columns : Index(['veil-type'], dtype='object')\n"
          ]
        }
      ]
    },
    {
      "cell_type": "markdown",
      "source": [
        "### 2) Removing columns with a large number of mission values"
      ],
      "metadata": {
        "id": "4SS_THqbWHD1"
      }
    },
    {
      "cell_type": "code",
      "source": [
        "# calculating the percentage of missing values in each column\n",
        "\n",
        "missing_percentage = df.isin(['?']).sum()/ len(df) * 100\n",
        "\n",
        "# identify columns with more than 30% missing values\n",
        "columns_to_drop = missing_percentage[missing_percentage>30].index\n",
        "\n",
        "# drop the indentified columns from the dataframe\n",
        "df = df.drop(columns=columns_to_drop)\n",
        "\n",
        "print(f'Droped columns: {columns_to_drop}')"
      ],
      "metadata": {
        "id": "xdVjKBzFYnDv",
        "outputId": "7b3cc07b-a9f1-4ec3-967b-d1023758d05f",
        "colab": {
          "base_uri": "https://localhost:8080/"
        }
      },
      "execution_count": 10,
      "outputs": [
        {
          "output_type": "stream",
          "name": "stdout",
          "text": [
            "Droped columns: Index(['stalk-root'], dtype='object')\n"
          ]
        }
      ]
    },
    {
      "cell_type": "markdown",
      "source": [
        "### 3) Remove columns with high correlation"
      ],
      "metadata": {
        "id": "HL2b-3HCaRtQ"
      }
    },
    {
      "cell_type": "code",
      "source": [
        "# calculating the correlation matrix\n",
        "corr_matrix = df.corr().abs()"
      ],
      "metadata": {
        "id": "vz3rXvlncPGa"
      },
      "execution_count": null,
      "outputs": []
    },
    {
      "cell_type": "markdown",
      "source": [
        "## label encodig"
      ],
      "metadata": {
        "id": "STAA_iv2ccA1"
      }
    },
    {
      "cell_type": "code",
      "source": [
        "from sklearn.preprocessing import LabelEncoder\n",
        "\n",
        "# convert all object colums to numeric values using label encoding\n",
        "df_encoded = df.apply(LabelEncoder().fit_transform)\n",
        "df = df_encoded\n",
        "# display the first 5 rows of the encoded dataframe\n",
        "print(df.head())"
      ],
      "metadata": {
        "id": "SOzFr-g9v4Zp"
      },
      "execution_count": null,
      "outputs": []
    },
    {
      "cell_type": "code",
      "source": [
        "correlation_matrix = df.corr()\n",
        "plt.figure(figsize=(15,10))\n",
        "sns.heatmap(correlation_matrix, annot=True, fmt='.2f', cmap='coolwarm', cbar=True)\n",
        "plt.title('correlation heatmap for mushroom dataset')\n",
        "plt.show()"
      ],
      "metadata": {
        "id": "EkwevLmMy1SD"
      },
      "execution_count": null,
      "outputs": []
    },
    {
      "cell_type": "markdown",
      "source": [
        "## checking in not allowed"
      ],
      "metadata": {
        "id": "1UupqPwpwxQ3"
      }
    },
    {
      "cell_type": "code",
      "source": [
        "# display unique values in each colum\n",
        "for column in df.columns:\n",
        "  print(f'Unique values in {column}: {df[column].unique}')"
      ],
      "metadata": {
        "id": "aFnZYl8gx2Ta"
      },
      "execution_count": null,
      "outputs": []
    },
    {
      "cell_type": "code",
      "source": [
        "df  = pd.DataFrame(df)"
      ],
      "metadata": {
        "id": "qeh8H-IVyNZF"
      },
      "execution_count": null,
      "outputs": []
    },
    {
      "cell_type": "code",
      "source": [
        "df = df.drop('veil-color', axis=1)"
      ],
      "metadata": {
        "id": "7k3rBIsoy22A"
      },
      "execution_count": null,
      "outputs": []
    },
    {
      "cell_type": "markdown",
      "source": [
        "# train and test split"
      ],
      "metadata": {
        "id": "5CVrGsnF1hvr"
      }
    },
    {
      "cell_type": "code",
      "source": [
        "X = df.drop('class', axis=1)\n",
        "y = df['class']\n",
        "\n",
        "\n",
        "from sklearn.model_selection import train_test_split\n",
        "X_train, X_test, y_train, y_test = train_test_split(X, y , test_size=0.2, random_state=42)"
      ],
      "metadata": {
        "id": "7N7okfNZ1mVw"
      },
      "execution_count": 25,
      "outputs": []
    },
    {
      "cell_type": "markdown",
      "source": [
        "#model\n"
      ],
      "metadata": {
        "id": "Mi9bFy7d3CTc"
      }
    },
    {
      "cell_type": "code",
      "source": [
        "# initialize the models\n",
        "models = {\n",
        "    'GaussianNB' : GaussianNB(),\n",
        "    'MultinomialNB': MultinomialNB(),\n",
        "    'BernoulliNB': BernoulliNB()\n",
        "}\n",
        "\n",
        "\n",
        "# Train and evaluat each model\n",
        "for model_name, model in models.items():\n",
        "  model.fit(X_train, y_train)\n",
        "  y_pred = model.predict(X_test)\n",
        "  accuracy = accuracy_score(y_test, y_pred)\n",
        "\n",
        "  print(f'Accuracy of {model_name}: {accuracy * 100:.2f}%')"
      ],
      "metadata": {
        "id": "GbACtfsI3FiI"
      },
      "execution_count": null,
      "outputs": []
    }
  ]
}