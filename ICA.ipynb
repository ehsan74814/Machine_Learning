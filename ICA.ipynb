{
  "nbformat": 4,
  "nbformat_minor": 0,
  "metadata": {
    "colab": {
      "provenance": [],
      "authorship_tag": "ABX9TyOoQsNBAqx85iC4w3ELEy7f",
      "include_colab_link": true
    },
    "kernelspec": {
      "name": "python3",
      "display_name": "Python 3"
    },
    "language_info": {
      "name": "python"
    }
  },
  "cells": [
    {
      "cell_type": "markdown",
      "metadata": {
        "id": "view-in-github",
        "colab_type": "text"
      },
      "source": [
        "<a href=\"https://colab.research.google.com/github/ehsan74814/Machine_Learning/blob/main/ICA.ipynb\" target=\"_parent\"><img src=\"https://colab.research.google.com/assets/colab-badge.svg\" alt=\"Open In Colab\"/></a>"
      ]
    },
    {
      "cell_type": "code",
      "execution_count": 3,
      "metadata": {
        "id": "r9HjF9BRVaW-"
      },
      "outputs": [],
      "source": [
        "import numpy as np\n",
        "from sklearn.decomposition import FastICA"
      ]
    },
    {
      "cell_type": "code",
      "source": [
        "# example of mixed data(two combine signals)\n",
        "X = np.array([[1,2,3,4],\n",
        "              [2,4,6,8]])"
      ],
      "metadata": {
        "id": "qlx8yhWSVk2z"
      },
      "execution_count": 4,
      "outputs": []
    },
    {
      "cell_type": "code",
      "source": [
        "# apply ICA to extract independent components\n",
        "ica = FastICA(n_components=2)\n",
        "S = ica.fit_transform(X.T) # extract indepenent components (sources)\n",
        "A = ica.mixing_ # obtain the mixing matrix"
      ],
      "metadata": {
        "id": "_-7AmnWAWABy"
      },
      "execution_count": null,
      "outputs": []
    },
    {
      "cell_type": "code",
      "source": [
        "# print result\n",
        "print(\"Independent components (S)\\n\", S)# independent signals\n",
        "print(\"Mixing matrix (A):\\n\", A) # Matrix showing how source were mixed"
      ],
      "metadata": {
        "id": "YSp1cUP2WivG"
      },
      "execution_count": null,
      "outputs": []
    },
    {
      "cell_type": "code",
      "source": [
        "# reconstruct the mixed signals\n",
        "X_reconstructed = np.dot(S, A.T)\n",
        "print(\"Reconstructed X:\\n\", X_reconstructed) # verify reconstruction accuracy"
      ],
      "metadata": {
        "id": "BaL4uDvUXGf_"
      },
      "execution_count": null,
      "outputs": []
    },
    {
      "cell_type": "code",
      "source": [],
      "metadata": {
        "id": "6vaVW0kMXcOm"
      },
      "execution_count": null,
      "outputs": []
    }
  ]
}