{
  "nbformat": 4,
  "nbformat_minor": 0,
  "metadata": {
    "colab": {
      "provenance": [],
      "authorship_tag": "ABX9TyMGt7TOpfj1lKKL+v2m7Er0",
      "include_colab_link": true
    },
    "kernelspec": {
      "name": "python3",
      "display_name": "Python 3"
    },
    "language_info": {
      "name": "python"
    }
  },
  "cells": [
    {
      "cell_type": "markdown",
      "metadata": {
        "id": "view-in-github",
        "colab_type": "text"
      },
      "source": [
        "<a href=\"https://colab.research.google.com/github/ehsan74814/Machine_Learning/blob/main/variableThreshold.ipynb\" target=\"_parent\"><img src=\"https://colab.research.google.com/assets/colab-badge.svg\" alt=\"Open In Colab\"/></a>"
      ]
    },
    {
      "cell_type": "code",
      "execution_count": 2,
      "metadata": {
        "id": "FaYMbAnDoyUT"
      },
      "outputs": [],
      "source": [
        "from sklearn.feature_selection import VarianceThreshold"
      ]
    },
    {
      "cell_type": "code",
      "source": [
        "# example data\n",
        "data = [\n",
        "    [0,2,0,3],\n",
        "    [0,1,4,3],\n",
        "    [0,1,1,3]\n",
        "]"
      ],
      "metadata": {
        "id": "lHT-c1fzo79i"
      },
      "execution_count": 4,
      "outputs": []
    },
    {
      "cell_type": "code",
      "source": [
        "# define the varaince thershold\n",
        "threshold = 0.2"
      ],
      "metadata": {
        "id": "UB_Z5DanpcCB"
      },
      "execution_count": 5,
      "outputs": []
    },
    {
      "cell_type": "code",
      "source": [
        "# Apply  varianceThreshould for feature selection\n",
        "selector = VarianceThreshold(threshold = threshold)\n",
        "reduced_data = selector.fit_transform(data)"
      ],
      "metadata": {
        "id": "rwA11TVWprzr"
      },
      "execution_count": 7,
      "outputs": []
    },
    {
      "cell_type": "code",
      "source": [
        "# print the shape of the original and reduced data\n",
        "print(\"original data shape :\", len(data[0]))\n",
        "print(\"Reduced Data shape :\", reduced_data.shape[1])\n",
        "print(\"Reduced Data :\", reduced_data)"
      ],
      "metadata": {
        "id": "r2IBiM0lqRxm"
      },
      "execution_count": null,
      "outputs": []
    }
  ]
}