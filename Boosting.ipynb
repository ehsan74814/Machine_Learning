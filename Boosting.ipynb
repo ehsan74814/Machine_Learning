{
  "nbformat": 4,
  "nbformat_minor": 0,
  "metadata": {
    "colab": {
      "provenance": [],
      "authorship_tag": "ABX9TyP5l0tcTELkYTtolrJpQvIq",
      "include_colab_link": true
    },
    "kernelspec": {
      "name": "python3",
      "display_name": "Python 3"
    },
    "language_info": {
      "name": "python"
    }
  },
  "cells": [
    {
      "cell_type": "markdown",
      "metadata": {
        "id": "view-in-github",
        "colab_type": "text"
      },
      "source": [
        "<a href=\"https://colab.research.google.com/github/ehsan74814/Preprocessing_Data/blob/main/Boosting.ipynb\" target=\"_parent\"><img src=\"https://colab.research.google.com/assets/colab-badge.svg\" alt=\"Open In Colab\"/></a>"
      ]
    },
    {
      "cell_type": "code",
      "execution_count": 1,
      "metadata": {
        "id": "HkIJG1f8qK5w"
      },
      "outputs": [],
      "source": [
        "from sklearn.datasets import load_iris\n",
        "from sklearn.model_selection import train_test_split\n",
        "from sklearn.metrics import accuracy_score\n",
        "from sklearn.tree import DecisionTreeClassifier"
      ]
    },
    {
      "cell_type": "code",
      "source": [
        "# load the iris dataset\n",
        "iris = load_iris()\n",
        "X,y = iris.data, iris.target"
      ],
      "metadata": {
        "id": "luFlJycI2zR1"
      },
      "execution_count": 2,
      "outputs": []
    },
    {
      "cell_type": "code",
      "source": [
        "# split dataset into train and test sets\n",
        "X_train, X_test, y_train, y_test = train_test_split(X, y, test_size=0.2, random_state=42)"
      ],
      "metadata": {
        "id": "BS_-bDJXdjxw"
      },
      "execution_count": 3,
      "outputs": []
    },
    {
      "cell_type": "markdown",
      "source": [
        "# AdaBoost"
      ],
      "metadata": {
        "id": "zLBMPww_ehg7"
      }
    },
    {
      "cell_type": "code",
      "source": [
        "from sklearn.ensemble import AdaBoostClassifier\n",
        "# adaBoost classifier\n",
        "adaboost = AdaBoostClassifier(n_estimators=50,random_state=42).fit(X_train, y_train)\n",
        "y_pred = adaboost.predict(X_test)"
      ],
      "metadata": {
        "id": "8qzS1bNld2px"
      },
      "execution_count": 10,
      "outputs": []
    },
    {
      "cell_type": "code",
      "source": [
        "accuracy_score(y_test, y_pred)"
      ],
      "metadata": {
        "id": "36ycEu0PegEq"
      },
      "execution_count": null,
      "outputs": []
    },
    {
      "cell_type": "markdown",
      "source": [
        "# GRADIENT BOOSTING"
      ],
      "metadata": {
        "id": "tLttNeLCepR7"
      }
    },
    {
      "cell_type": "code",
      "source": [
        "from sklearn.ensemble import GradientBoostingClassifier\n",
        "# adaboosting classifier\n",
        "gradient_boosting = GradientBoostingClassifier(n_estimators=50,random_state=42).fit(X_train, y_train)\n",
        "y_pred = gradient_boosting.predict(X_test)"
      ],
      "metadata": {
        "id": "A2Nd5kv3ev3s"
      },
      "execution_count": 8,
      "outputs": []
    },
    {
      "cell_type": "code",
      "source": [
        "accuracy_score(y_test, y_pred)"
      ],
      "metadata": {
        "id": "ceyPh2FGfNDL",
        "outputId": "2ba81410-f789-4c1e-c304-3c2df7c6ffb0",
        "colab": {
          "base_uri": "https://localhost:8080/"
        }
      },
      "execution_count": 9,
      "outputs": [
        {
          "output_type": "execute_result",
          "data": {
            "text/plain": [
              "1.0"
            ]
          },
          "metadata": {},
          "execution_count": 9
        }
      ]
    },
    {
      "cell_type": "markdown",
      "source": [
        "# Xboost classifier"
      ],
      "metadata": {
        "id": "8DW7zhnFfRAb"
      }
    },
    {
      "cell_type": "code",
      "source": [
        "from xgboost import XGBClassifier\n",
        "# XGBoost classifier\n",
        "xgboost = XGBClassifier(n_estimators=50,random_state=42).fit(X_train, y_train)\n",
        "y_pred = xgboost.predict(X_test)"
      ],
      "metadata": {
        "id": "uEdOeIBsfXBI"
      },
      "execution_count": 14,
      "outputs": []
    },
    {
      "cell_type": "code",
      "source": [
        "accuracy_score(y_test, y_pred)"
      ],
      "metadata": {
        "id": "x4aKcKaxgHH-"
      },
      "execution_count": null,
      "outputs": []
    },
    {
      "cell_type": "markdown",
      "source": [
        "#lightGBM"
      ],
      "metadata": {
        "id": "3L6TcMEmgXTp"
      }
    },
    {
      "cell_type": "code",
      "source": [
        "!pip install lightgbm"
      ],
      "metadata": {
        "id": "-lagmWsLgvs-"
      },
      "execution_count": null,
      "outputs": []
    },
    {
      "cell_type": "code",
      "source": [
        "import lightgbm as lgb\n",
        "lightgbm = lgb.LGBMClassifier().fit(X_train, y_train)\n",
        "y_pred = lightgbm.predict(X_test)"
      ],
      "metadata": {
        "id": "AvDCEFYGg3Cs"
      },
      "execution_count": null,
      "outputs": []
    },
    {
      "cell_type": "code",
      "source": [
        "accuracy_score(y_test, y_pred)"
      ],
      "metadata": {
        "id": "9tx9WpC_hLv0"
      },
      "execution_count": null,
      "outputs": []
    },
    {
      "cell_type": "markdown",
      "source": [
        "# catboost"
      ],
      "metadata": {
        "id": "I-1GidF1iCfQ"
      }
    },
    {
      "cell_type": "code",
      "source": [
        "!pip install catboost"
      ],
      "metadata": {
        "id": "S8l093cziL5A"
      },
      "execution_count": null,
      "outputs": []
    },
    {
      "cell_type": "code",
      "source": [
        "from catboost import CatBoostClassifier\n",
        "catBoost = CatBoostClassifier().fit(X_train, y_train)\n",
        "y_pred = catBoost.predict(X_test)"
      ],
      "metadata": {
        "id": "SFtDWM0IiPNW"
      },
      "execution_count": null,
      "outputs": []
    },
    {
      "cell_type": "code",
      "source": [
        "accuracy_score(y_test, y_pred)"
      ],
      "metadata": {
        "id": "adyKsKCBih7R"
      },
      "execution_count": null,
      "outputs": []
    },
    {
      "cell_type": "code",
      "source": [],
      "metadata": {
        "id": "SR628tcUirfw"
      },
      "execution_count": null,
      "outputs": []
    }
  ]
}