{
  "nbformat": 4,
  "nbformat_minor": 0,
  "metadata": {
    "colab": {
      "provenance": [],
      "authorship_tag": "ABX9TyNlWq1mJLderexAvyzbXTT/",
      "include_colab_link": true
    },
    "kernelspec": {
      "name": "python3",
      "display_name": "Python 3"
    },
    "language_info": {
      "name": "python"
    }
  },
  "cells": [
    {
      "cell_type": "markdown",
      "metadata": {
        "id": "view-in-github",
        "colab_type": "text"
      },
      "source": [
        "<a href=\"https://colab.research.google.com/github/ehsan74814/Preprocessing_Data/blob/main/HyperParameters.ipynb\" target=\"_parent\"><img src=\"https://colab.research.google.com/assets/colab-badge.svg\" alt=\"Open In Colab\"/></a>"
      ]
    },
    {
      "cell_type": "code",
      "source": [
        "from google.colab import drive\n",
        "drive.mount('/content/drive')"
      ],
      "metadata": {
        "id": "hRWRn5X_8z9E"
      },
      "execution_count": null,
      "outputs": []
    },
    {
      "cell_type": "markdown",
      "source": [
        "# GridSerach"
      ],
      "metadata": {
        "id": "Dja7G2vh9ywN"
      }
    },
    {
      "cell_type": "code",
      "source": [
        "!pip install scikit-optimize"
      ],
      "metadata": {
        "id": "Gt70FcEwt7ou"
      },
      "execution_count": null,
      "outputs": []
    },
    {
      "cell_type": "code",
      "source": [
        "import numpy as np\n",
        "import pandas as pd\n",
        "from sklearn.linear_model import ElasticNet\n",
        "from sklearn.model_selection import train_test_split, GridSearchCV, RandomizedSearchCV\n",
        "from skopt import BayesSearchCV"
      ],
      "metadata": {
        "id": "rwDGWu4F92PN"
      },
      "execution_count": 21,
      "outputs": []
    },
    {
      "cell_type": "code",
      "source": [
        "df = pd.read_excel('/content/drive/MyDrive/Training ML/ElasticNet/Concrete_Data - Copy.xls')"
      ],
      "metadata": {
        "id": "a7qwcHoL-zAM"
      },
      "execution_count": 22,
      "outputs": []
    },
    {
      "cell_type": "code",
      "source": [
        "X = df.drop(columns=['Concrete compressive strength'])\n",
        "y = df['Concrete compressive strength']"
      ],
      "metadata": {
        "id": "dddlqW9E-_TG"
      },
      "execution_count": 23,
      "outputs": []
    },
    {
      "cell_type": "code",
      "source": [
        "X_train, X_test, y_train, y_test = train_test_split(X, y, test_size=0.2, random_state=42)"
      ],
      "metadata": {
        "id": "BjhX87gU_Pb8"
      },
      "execution_count": 24,
      "outputs": []
    },
    {
      "cell_type": "code",
      "source": [
        "alpha_values = np.random.uniform(0,1,10)\n",
        "l1_ratio_values = np.random.uniform(0,1,10)"
      ],
      "metadata": {
        "id": "gSe1L7A6_cc-"
      },
      "execution_count": 26,
      "outputs": []
    },
    {
      "cell_type": "code",
      "source": [
        "param_grid = {\n",
        "    'alpha': alpha_values,\n",
        "    'l1_ratio' : l1_ratio_values\n",
        "}"
      ],
      "metadata": {
        "id": "Yzrr0SIx_x6B"
      },
      "execution_count": 27,
      "outputs": []
    },
    {
      "cell_type": "code",
      "source": [
        "model = ElasticNet()"
      ],
      "metadata": {
        "id": "i4k0z1ITAIxr"
      },
      "execution_count": 28,
      "outputs": []
    },
    {
      "cell_type": "markdown",
      "source": [
        "# grid search"
      ],
      "metadata": {
        "id": "ZQ9NiKi9q7T6"
      }
    },
    {
      "cell_type": "code",
      "source": [
        "grid_search = GridSearchCV(estimator=model, param_grid=param_grid, cv=5, scoring='r2', n_jobs = -1, verbose=2, refit=True)"
      ],
      "metadata": {
        "id": "IwUbk3rJAO8J"
      },
      "execution_count": null,
      "outputs": []
    },
    {
      "cell_type": "code",
      "source": [
        "grid_search.fit(X_train, y_train)"
      ],
      "metadata": {
        "id": "qNsKw_YyBL1H"
      },
      "execution_count": null,
      "outputs": []
    },
    {
      "cell_type": "code",
      "source": [
        "grid_search.best_params_"
      ],
      "metadata": {
        "id": "gojPXc8_BQn9"
      },
      "execution_count": null,
      "outputs": []
    },
    {
      "cell_type": "code",
      "source": [
        "grid_search.best_score_"
      ],
      "metadata": {
        "id": "9KA8aMovBd_s"
      },
      "execution_count": null,
      "outputs": []
    },
    {
      "cell_type": "markdown",
      "source": [
        "# rANDOM SEARCH"
      ],
      "metadata": {
        "id": "9QyLGbeSrA5_"
      }
    },
    {
      "cell_type": "code",
      "source": [
        "random_search = RandomizedSearchCV(estimator=model, param_distributions=param_grid, n_iter=10, cv=5, random_state=42)"
      ],
      "metadata": {
        "id": "Muz_mZDkrDH2"
      },
      "execution_count": 11,
      "outputs": []
    },
    {
      "cell_type": "code",
      "source": [
        "random_search.fit(X_train, y_train)"
      ],
      "metadata": {
        "id": "7Ozk2K0pr8Ea"
      },
      "execution_count": null,
      "outputs": []
    },
    {
      "cell_type": "code",
      "source": [
        "random_search.best_params_"
      ],
      "metadata": {
        "id": "S0P6LyvLsJdf"
      },
      "execution_count": null,
      "outputs": []
    },
    {
      "cell_type": "code",
      "source": [
        "random_search.best_score_"
      ],
      "metadata": {
        "id": "v-0jwiucsV0o"
      },
      "execution_count": null,
      "outputs": []
    },
    {
      "cell_type": "code",
      "source": [],
      "metadata": {
        "id": "-GxssF6GsZ-E"
      },
      "execution_count": null,
      "outputs": []
    },
    {
      "cell_type": "markdown",
      "source": [
        "# BayesSearch"
      ],
      "metadata": {
        "id": "i80x8KrgtvxY"
      }
    },
    {
      "cell_type": "code",
      "source": [
        "opt = BayesSearchCV(estimator=model, search_spaces=param_grid, n_iter=10, cv=5, random_state=42)"
      ],
      "metadata": {
        "id": "aFwbkXxZt0De"
      },
      "execution_count": 30,
      "outputs": []
    },
    {
      "cell_type": "code",
      "source": [
        "opt.fit(X_train, y_train)"
      ],
      "metadata": {
        "id": "Q4cQB7QH2Vq5"
      },
      "execution_count": null,
      "outputs": []
    },
    {
      "cell_type": "code",
      "source": [
        "opt.best_params_"
      ],
      "metadata": {
        "id": "tCFDvNJo2ZTF"
      },
      "execution_count": null,
      "outputs": []
    },
    {
      "cell_type": "code",
      "source": [
        "opt.best_score_"
      ],
      "metadata": {
        "id": "oQ6_cWl42g14"
      },
      "execution_count": null,
      "outputs": []
    },
    {
      "cell_type": "markdown",
      "source": [
        "# cross validation"
      ],
      "metadata": {
        "id": "lpeXdY-V2m3r"
      }
    },
    {
      "cell_type": "code",
      "source": [
        "from sklearn.model_selection import cross_val_score, KFold"
      ],
      "metadata": {
        "id": "7jK3xLmD-PyI"
      },
      "execution_count": 39,
      "outputs": []
    },
    {
      "cell_type": "code",
      "source": [
        "alpha_values = np.random.uniform(0,1,10)\n",
        "l1_ratio_values = np.random.uniform(0,1,10)"
      ],
      "metadata": {
        "id": "sAhbU-a62tMi"
      },
      "execution_count": 34,
      "outputs": []
    },
    {
      "cell_type": "code",
      "source": [
        "param_dict = [{'alpha':alpha, 'l1_ratio':l1_ratio} for alpha in alpha_values for l1_ratio in l1_ratio_values]"
      ],
      "metadata": {
        "id": "WIqZcPtv7s_B"
      },
      "execution_count": 35,
      "outputs": []
    },
    {
      "cell_type": "code",
      "source": [
        "models = [ElasticNet(alpha=params['alpha'], l1_ratio=params['l1_ratio']) for params in param_dict]"
      ],
      "metadata": {
        "id": "19mB8_wt8s7v"
      },
      "execution_count": 38,
      "outputs": []
    },
    {
      "cell_type": "code",
      "source": [
        "kf = KFold(n_splits=5, shuffle=True, random_state=42)"
      ],
      "metadata": {
        "id": "SUR9FV8_98Ez"
      },
      "execution_count": 40,
      "outputs": []
    },
    {
      "cell_type": "code",
      "source": [
        "cv_scores = [cross_val_score(model, X_train, y_train, cv=kf, scoring='r2').mean() for model in models]"
      ],
      "metadata": {
        "id": "jQ-CXZ4v-myF"
      },
      "execution_count": null,
      "outputs": []
    },
    {
      "cell_type": "code",
      "source": [
        "best_model_index = np.argmax(cv_scores)"
      ],
      "metadata": {
        "id": "YnVnrQwX_EJU"
      },
      "execution_count": null,
      "outputs": []
    },
    {
      "cell_type": "code",
      "source": [
        "best_model_params = param_dict[best_model_index]"
      ],
      "metadata": {
        "id": "UK_coT8o_Nr4",
        "outputId": "37c5eaa1-bdeb-4391-8296-b850da5b99f0",
        "colab": {
          "base_uri": "https://localhost:8080/"
        }
      },
      "execution_count": 45,
      "outputs": [
        {
          "output_type": "execute_result",
          "data": {
            "text/plain": [
              "{'alpha': 0.8750635067987176, 'l1_ratio': 0.007940407591646048}"
            ]
          },
          "metadata": {},
          "execution_count": 45
        }
      ]
    },
    {
      "cell_type": "code",
      "source": [
        "cv_scores[best_model_index]"
      ],
      "metadata": {
        "id": "uQiyVTOM_mgT"
      },
      "execution_count": null,
      "outputs": []
    }
  ]
}