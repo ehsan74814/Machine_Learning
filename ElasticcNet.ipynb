{
  "nbformat": 4,
  "nbformat_minor": 0,
  "metadata": {
    "colab": {
      "provenance": [],
      "mount_file_id": "119tk75J0FVliteXToFtYMQxFwgOjX_jV",
      "authorship_tag": "ABX9TyOVdbB3xapKPRcfvAhZvr3O",
      "include_colab_link": true
    },
    "kernelspec": {
      "name": "python3",
      "display_name": "Python 3"
    },
    "language_info": {
      "name": "python"
    }
  },
  "cells": [
    {
      "cell_type": "markdown",
      "metadata": {
        "id": "view-in-github",
        "colab_type": "text"
      },
      "source": [
        "<a href=\"https://colab.research.google.com/github/ehsan74814/Preprocessing_Data/blob/main/ElasticcNet.ipynb\" target=\"_parent\"><img src=\"https://colab.research.google.com/assets/colab-badge.svg\" alt=\"Open In Colab\"/></a>"
      ]
    },
    {
      "cell_type": "code",
      "source": [
        "import pandas as pd\n",
        "import numpy as np\n",
        "import matplotlib.pyplot as plt\n",
        "import seaborn as sns\n",
        "from sklearn.linear_model import ElasticNet\n",
        "from sklearn.model_selection import train_test_split\n",
        "from sklearn.preprocessing import StandardScaler\n",
        "from sklearn.metrics import mean_squared_error, r2_score"
      ],
      "metadata": {
        "id": "1QR6jrtTYs4W"
      },
      "execution_count": 3,
      "outputs": []
    },
    {
      "cell_type": "code",
      "source": [
        "df = pd.read_excel('/content/drive/MyDrive/Training ML/ElasticNet/Concrete_Data - Copy.xls')"
      ],
      "metadata": {
        "id": "s-sefbvTZrbH"
      },
      "execution_count": 4,
      "outputs": []
    },
    {
      "cell_type": "code",
      "source": [
        "# display data\n",
        "df.info()"
      ],
      "metadata": {
        "id": "zxfW6w7paiYN"
      },
      "execution_count": null,
      "outputs": []
    },
    {
      "cell_type": "code",
      "source": [
        "# display several data\n",
        "df.head()"
      ],
      "metadata": {
        "id": "PiF7HSKTaoSQ"
      },
      "execution_count": null,
      "outputs": []
    },
    {
      "cell_type": "code",
      "source": [
        "# check for missing data\n",
        "df.isnull().sum()"
      ],
      "metadata": {
        "id": "AsxgzrEda1Ev"
      },
      "execution_count": null,
      "outputs": []
    },
    {
      "cell_type": "code",
      "source": [
        "# check outliers data\n",
        "df.describe()"
      ],
      "metadata": {
        "id": "TsVLLQh-bITO"
      },
      "execution_count": null,
      "outputs": []
    },
    {
      "cell_type": "markdown",
      "source": [
        "# design charts"
      ],
      "metadata": {
        "id": "RMDSGC7IbbEI"
      }
    },
    {
      "cell_type": "markdown",
      "source": [
        "## 1 ) Histogram"
      ],
      "metadata": {
        "id": "9nKK8cbmb6rS"
      }
    },
    {
      "cell_type": "code",
      "source": [
        "plt.figure(figsize=(15,8))\n",
        "# df.hist(bins=20, figsize=(14,10), grid=False)\n",
        "df.hist(bins=20,  grid=False, linewidth=1.2,color='red' , edgecolor='black')\n",
        "plt.suptitle('Histogram of Feasture distribution')\n",
        "plt.show()"
      ],
      "metadata": {
        "id": "Zv2AZkNYb_Vk"
      },
      "execution_count": null,
      "outputs": []
    },
    {
      "cell_type": "markdown",
      "source": [
        "## 2 ) Boxplot"
      ],
      "metadata": {
        "id": "FoDjsePZjpvM"
      }
    },
    {
      "cell_type": "code",
      "source": [
        "plt.figure(figsize=(15,8))\n",
        "# ax = plt.subplot(3,3,3)\n",
        "# sns.boxplot(data=df, ax=ax)\n",
        "df.boxplot(figsize=(10,6), vert= False)\n",
        "plt.show()\n",
        "\n",
        "\n",
        "\n"
      ],
      "metadata": {
        "id": "M1VEVMm6j5n4"
      },
      "execution_count": null,
      "outputs": []
    },
    {
      "cell_type": "markdown",
      "source": [
        "## heatmap"
      ],
      "metadata": {
        "id": "eGVVrByjnMvQ"
      }
    },
    {
      "cell_type": "code",
      "source": [
        "plt.figure(figsize=(12,8))\n",
        "correlation_matrix = df.corr()\n",
        "sns.heatmap(correlation_matrix, annot=True, cmap='coolwarm', fmt='.2f')\n",
        "plt.show()"
      ],
      "metadata": {
        "id": "r04qXYcTnQHP"
      },
      "execution_count": null,
      "outputs": []
    },
    {
      "cell_type": "markdown",
      "source": [
        "## روابط بسن ویژگی ها pairplot\n"
      ],
      "metadata": {
        "id": "YYB3WRwNn2Hh"
      }
    },
    {
      "cell_type": "code",
      "source": [
        "sns.pairplot(df,diag_kind='kde',markers='+')\n",
        "plt.show()"
      ],
      "metadata": {
        "id": "wylgXNYOoOwA"
      },
      "execution_count": null,
      "outputs": []
    }
  ]
}