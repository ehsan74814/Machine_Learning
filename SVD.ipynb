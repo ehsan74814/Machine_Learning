{
  "nbformat": 4,
  "nbformat_minor": 0,
  "metadata": {
    "colab": {
      "provenance": [],
      "authorship_tag": "ABX9TyN+VrmrhnUMi7VV5TeW9fp8",
      "include_colab_link": true
    },
    "kernelspec": {
      "name": "python3",
      "display_name": "Python 3"
    },
    "language_info": {
      "name": "python"
    }
  },
  "cells": [
    {
      "cell_type": "markdown",
      "metadata": {
        "id": "view-in-github",
        "colab_type": "text"
      },
      "source": [
        "<a href=\"https://colab.research.google.com/github/ehsan74814/Machine_Learning/blob/main/SVD.ipynb\" target=\"_parent\"><img src=\"https://colab.research.google.com/assets/colab-badge.svg\" alt=\"Open In Colab\"/></a>"
      ]
    },
    {
      "cell_type": "code",
      "execution_count": 1,
      "metadata": {
        "id": "4plvwzItTHub"
      },
      "outputs": [],
      "source": [
        "import numpy as np"
      ]
    },
    {
      "cell_type": "code",
      "source": [
        "# define a matrix\n",
        "a = np.array([[1,2,3],\n",
        "              [4,5,6],\n",
        "              [7,8,9]])"
      ],
      "metadata": {
        "id": "Ftfbuc--TNcC"
      },
      "execution_count": 2,
      "outputs": []
    },
    {
      "cell_type": "code",
      "source": [
        "# perform SVD\n",
        "u, s, vt = np.linalg.svd(a)"
      ],
      "metadata": {
        "id": "N8D57MXyTpK8"
      },
      "execution_count": 3,
      "outputs": []
    },
    {
      "cell_type": "code",
      "source": [
        "#print results\n",
        "print(\"U Matrix:\\n\", u)\n",
        "print(\"Singular values (diagonal of sigma ):\\n\", s)\n",
        "print(\"V transpose Matrix:\\n\", vt)"
      ],
      "metadata": {
        "colab": {
          "base_uri": "https://localhost:8080/"
        },
        "id": "zB9kZYrRTzRK",
        "outputId": "4e72e359-f0de-4c68-89b0-d8211dc5b627"
      },
      "execution_count": 4,
      "outputs": [
        {
          "output_type": "stream",
          "name": "stdout",
          "text": [
            "U Matrix:\n",
            " [[-0.21483724  0.88723069  0.40824829]\n",
            " [-0.52058739  0.24964395 -0.81649658]\n",
            " [-0.82633754 -0.38794278  0.40824829]]\n",
            "Singular values (diagonal of sigma ):\n",
            " [1.68481034e+01 1.06836951e+00 4.41842475e-16]\n",
            "V transpose Matrix:\n",
            " [[-0.47967118 -0.57236779 -0.66506441]\n",
            " [-0.77669099 -0.07568647  0.62531805]\n",
            " [-0.40824829  0.81649658 -0.40824829]]\n"
          ]
        }
      ]
    },
    {
      "cell_type": "code",
      "source": [],
      "metadata": {
        "id": "i3IdfPxHUQi9"
      },
      "execution_count": null,
      "outputs": []
    }
  ]
}