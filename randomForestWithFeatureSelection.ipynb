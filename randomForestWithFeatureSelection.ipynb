{
  "nbformat": 4,
  "nbformat_minor": 0,
  "metadata": {
    "colab": {
      "provenance": [],
      "mount_file_id": "1zMaILJTL2RRF9QStoR7z_5OYHQz_irvi",
      "authorship_tag": "ABX9TyOU6qSPlNALVCDzEPiswlf/",
      "include_colab_link": true
    },
    "kernelspec": {
      "name": "python3",
      "display_name": "Python 3"
    },
    "language_info": {
      "name": "python"
    }
  },
  "cells": [
    {
      "cell_type": "markdown",
      "metadata": {
        "id": "view-in-github",
        "colab_type": "text"
      },
      "source": [
        "<a href=\"https://colab.research.google.com/github/ehsan74814/Preprocessing_Data/blob/main/randomForestWithFeatureSelection.ipynb\" target=\"_parent\"><img src=\"https://colab.research.google.com/assets/colab-badge.svg\" alt=\"Open In Colab\"/></a>"
      ]
    },
    {
      "cell_type": "code",
      "execution_count": 13,
      "metadata": {
        "id": "D8DO91-eqo8C"
      },
      "outputs": [],
      "source": [
        "import numpy as np\n",
        "import pandas as pd\n",
        "from sklearn.datasets import load_breast_cancer\n",
        "from sklearn.ensemble import RandomForestClassifier\n",
        "from sklearn.feature_selection import SelectFromModel\n",
        "from sklearn.model_selection import train_test_split\n",
        "from sklearn.metrics import accuracy_score\n",
        "from sklearn.preprocessing import StandardScaler"
      ]
    },
    {
      "cell_type": "code",
      "source": [
        "breast = load_breast_cancer()\n",
        "X = pd.DataFrame(breast.data, columns = breast.feature_names)\n",
        "y = breast.target"
      ],
      "metadata": {
        "id": "ZZGeL7cJryi-"
      },
      "execution_count": 14,
      "outputs": []
    },
    {
      "cell_type": "code",
      "source": [
        "model = RandomForestClassifier(random_state=42).fit(X,y)"
      ],
      "metadata": {
        "id": "1j5XFEQ8sJUC"
      },
      "execution_count": 15,
      "outputs": []
    },
    {
      "cell_type": "code",
      "source": [
        "sfm = SelectFromModel(model, threshold='mean')\n",
        "X_selected = sfm.transform(X)"
      ],
      "metadata": {
        "id": "-yFVGMs4sqQC"
      },
      "execution_count": null,
      "outputs": []
    },
    {
      "cell_type": "code",
      "source": [
        "selected_columns = X.columns[sfm.get_support()]\n",
        "selected_columns.tolist()"
      ],
      "metadata": {
        "id": "r5h7F3DvuVdB"
      },
      "execution_count": null,
      "outputs": []
    },
    {
      "cell_type": "code",
      "source": [
        "X_train, X_test, y_train, y_test = train_test_split(X_selected, y, test_size = 0.2, random_state=42)"
      ],
      "metadata": {
        "id": "wNu0wD-Is5HX"
      },
      "execution_count": 7,
      "outputs": []
    },
    {
      "cell_type": "code",
      "source": [
        "scaler = StandardScaler()\n",
        "X_train = scaler.fit_transform(X_train)\n",
        "X_test = scaler.transform(X_test)"
      ],
      "metadata": {
        "id": "5sCxWVoetK92"
      },
      "execution_count": 8,
      "outputs": []
    },
    {
      "cell_type": "code",
      "source": [
        "model = RandomForestClassifier(random_state=42).fit(X_train, y_train)"
      ],
      "metadata": {
        "id": "AGvNop6Etf1R"
      },
      "execution_count": 9,
      "outputs": []
    },
    {
      "cell_type": "code",
      "source": [
        "y_pred = model.predict(X_test)"
      ],
      "metadata": {
        "id": "mpyxmNSWt3Sd"
      },
      "execution_count": 10,
      "outputs": []
    },
    {
      "cell_type": "code",
      "source": [
        "accuracy_score(y_test, y_pred)"
      ],
      "metadata": {
        "id": "iEaHSPydt-Br"
      },
      "execution_count": null,
      "outputs": []
    },
    {
      "cell_type": "code",
      "source": [],
      "metadata": {
        "id": "DIIEsIcauIjm"
      },
      "execution_count": null,
      "outputs": []
    }
  ]
}